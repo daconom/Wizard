{
 "cells": [
  {
   "cell_type": "code",
   "execution_count": 58,
   "metadata": {},
   "outputs": [],
   "source": [
    "class Wizard:\n",
    "    def __init__(self, *args):\n",
    "        n = len(args)\n",
    "        self.rounds_max = int(60/n)\n",
    "        self.round=1\n",
    "        self.scores = dict((i, 0) for i in args)\n",
    "        self.names = args\n",
    "        self.trick_a = {}\n",
    "        print(self.scores)\n",
    "        \n",
    "    def trick(self,*trn):\n",
    "        self.trick_a = dict((i, j) for i, j in zip(self.names, trn))\n",
    "        print('Tricks:')\n",
    "        print(self.trick_a)\n",
    "\n",
    "    def round_end(self,*end_trn):\n",
    "        for i,j in zip(self.names, end_trn):\n",
    "            diff= j - self.trick_a[i]\n",
    "            if diff != 0:\n",
    "                self.scores[i] = self.scores[i] - abs(diff) * 10 \n",
    "            else:\n",
    "                self.scores[i] = self.scores[i] + self.trick_a[i]*10 +20\n",
    "        self.round += 1\n",
    "        print(self.scores)\n",
    "        if self.round <  self.rounds_max:\n",
    "            print('Distribute %d cards in the next round' % (self.round))\n",
    "        else:\n",
    "            print('Last round')\n"
   ]
  },
  {
   "cell_type": "code",
   "execution_count": 59,
   "metadata": {
    "tags": []
   },
   "outputs": [
    {
     "output_type": "stream",
     "name": "stdout",
     "text": "{'Simon': 0, 'Victoria': 0, 'Emily': 0, 'David': 0}\n"
    }
   ],
   "source": [
    "wiz= Wizard('Simon', 'Victoria','Emily', 'David')"
   ]
  },
  {
   "cell_type": "code",
   "execution_count": 60,
   "metadata": {
    "tags": []
   },
   "outputs": [
    {
     "output_type": "stream",
     "name": "stdout",
     "text": "Tricks:\n{'Simon': 2, 'Victoria': 3, 'Emily': 4, 'David': 5}\n"
    }
   ],
   "source": [
    "wiz.trick(2,3,4,5)"
   ]
  },
  {
   "cell_type": "code",
   "execution_count": 61,
   "metadata": {
    "tags": []
   },
   "outputs": [
    {
     "output_type": "stream",
     "name": "stdout",
     "text": "{'Simon': 40, 'Victoria': 50, 'Emily': -60, 'David': -20}\nDistribute 2 cards in the next round\n"
    }
   ],
   "source": [
    "wiz.round_end(2,3,10,3)"
   ]
  },
  {
   "cell_type": "code",
   "execution_count": null,
   "metadata": {},
   "outputs": [],
   "source": []
  }
 ],
 "metadata": {
  "language_info": {
   "codemirror_mode": {
    "name": "ipython",
    "version": 3
   },
   "file_extension": ".py",
   "mimetype": "text/x-python",
   "name": "python",
   "nbconvert_exporter": "python",
   "pygments_lexer": "ipython3",
   "version": "3.7.4-final"
  },
  "orig_nbformat": 2,
  "kernelspec": {
   "name": "python37464bit03f02b2855bf482ea234696b2bf06040",
   "display_name": "Python 3.7.4 64-bit"
  }
 },
 "nbformat": 4,
 "nbformat_minor": 2
}